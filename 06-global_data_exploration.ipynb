{
 "cells": [
  {
   "cell_type": "markdown",
   "id": "6ecaa6af",
   "metadata": {},
   "source": [
    "# Working with global data\n",
    "*GEOL 202A | Lab 6 | Prof. Lizz Ultee, with thanks to [Fabien Maussion](https://fabienmaussion.info/climate_system/week_03/01_Lesson_MoreDataCrunching.html)*"
   ]
  },
  {
   "cell_type": "markdown",
   "id": "82bcb072",
   "metadata": {},
   "source": [
    "How can we extract useful information from a dataset we manage to find?  \n",
    "\n",
    "Here we are considering global atmospheric data, but you might also have large datasets from ice sheets, oceans, or geological observations.  It is useful to have some techniques to visualize, process, and extract information from these large datasets.\n",
    "\n",
    "In this lab, we will use **pair programming** to manipulate a global dataset.  You and your partner will work through example data processing on global 2-meter air temperature, then apply your skills to explore a new dataset.  Start off with one partner \"driving\" (typing the code) and one \"navigating\" (suggesting what to write).  Switch navigator/driver roles every time you see a new number."
   ]
  },
  {
   "cell_type": "code",
   "execution_count": 1,
   "id": "1cf1254d-2414-448e-86ee-adca3686d307",
   "metadata": {},
   "outputs": [],
   "source": [
    "from IPython.display import IFrame ## Prof. Ultee using this to add embedded puzzles"
   ]
  },
  {
   "cell_type": "markdown",
   "id": "b9370e09-e066-423f-b2ad-0a4991ae6331",
   "metadata": {},
   "source": [
    "## 1. Temperature data  "
   ]
  },
  {
   "cell_type": "markdown",
   "id": "51d9f29e-a686-482d-8c26-c6467f39a4a0",
   "metadata": {},
   "source": [
    "First, download the global 2-meter air temperature dataset `ERA5_LowRes_Monthly_t2m.nc` from [this page](https://fabienmaussion.info/climate_system/download.html).  While you are there, download `ERA5_LowRes_Invariant.nc` -- we will use it later.\n",
    "\n",
    "Place both files in an easily accessible folder.  The cell below assumes you have them in a folder called `data` one level above this Jupyter notebook.\n",
    "\n",
    "Import the packages we will use, and open the dataset."
   ]
  },
  {
   "cell_type": "code",
   "execution_count": null,
   "id": "2d3da7c9-e79f-4c76-be4b-90df3695d0a1",
   "metadata": {},
   "outputs": [],
   "source": [
    "# Import the tools we are going to need today:\n",
    "import matplotlib.pyplot as plt  # plotting library\n",
    "import numpy as np  # numerical library\n",
    "import xarray as xr  # netCDF library\n",
    "import cartopy  # Map projections libary\n",
    "import cartopy.crs as ccrs  # Projections list\n",
    "# Some defaults:\n",
    "plt.rcParams['figure.figsize'] = (12, 5)  # Default plot size"
   ]
  },
  {
   "cell_type": "code",
   "execution_count": null,
   "id": "339c5053-620f-408b-88e1-b3e65b3ca8d8",
   "metadata": {},
   "outputs": [],
   "source": [
    "ds = xr.open_dataset('../data/ERA5_LowRes_Monthly_t2m.nc')\n",
    "ds"
   ]
  },
  {
   "cell_type": "markdown",
   "id": "bc40efcc-2bba-4d8e-a37a-070da3ad77f0",
   "metadata": {},
   "source": [
    "**Q: What is ERA5? Search the internet to get some basic information about it. What institution provides the data? What time period is it available for?**"
   ]
  },
  {
   "cell_type": "markdown",
   "id": "0b28b8e3-118e-4af1-a037-89273c83a972",
   "metadata": {},
   "source": [
    "*your notes here*"
   ]
  },
  {
   "cell_type": "markdown",
   "id": "f63ebf09-0086-43e2-9d05-0d2b8db7f0e3",
   "metadata": {},
   "source": [
    "**Q: How is the ERA5 data produced?  How is \"reanalysis\" data different from observations?**"
   ]
  },
  {
   "cell_type": "markdown",
   "id": "ca215330-6039-4340-9d50-f37a692c0fb2",
   "metadata": {},
   "source": [
    "*your notes here*"
   ]
  },
  {
   "cell_type": "markdown",
   "id": "591d6d61-e5ca-4886-974a-e74ccb3f1784",
   "metadata": {},
   "source": [
    "Use the \"HTML representation\" of the dataset printed above to figure out what to expect from the data:\n",
    "- **what are the dimensions of the t2m variable?**\n",
    "- **what is the spatial resolution of this dataset?**\n",
    "- **what is its temporal resolution?**\n",
    "- **what it the data type of the various variables and coordinates available in the dataset? What are the differences between each data type?**"
   ]
  },
  {
   "cell_type": "markdown",
   "id": "1082a8d0-96ee-422d-ab7c-db521ab561ad",
   "metadata": {},
   "source": [
    "## A map plot of average air temperature"
   ]
  },
  {
   "cell_type": "markdown",
   "id": "d1ec8882-7d58-475d-a973-2ee002100b3f",
   "metadata": {},
   "source": [
    "Let's compute the time average of the air temperature. \n",
    "\n",
    "We will try something new here: I have set up a puzzle for you to drag the lines of code into the correct order.  Don't edit the `IFrame` command below.  Just run it, then click and drag the lines to the solution side.  You can click \"Get feedback\" to check whether your setup is correct.\n",
    "\n",
    "Once you have a correct solution, copy the lines of code into a new cell to generate the map plot."
   ]
  },
  {
   "cell_type": "code",
   "execution_count": 2,
   "id": "e3aaefa7-06b4-4091-aeff-04f8e4b8c031",
   "metadata": {},
   "outputs": [
    {
     "data": {
      "text/html": [
       "\n",
       "        <iframe\n",
       "            width=\"1000\"\n",
       "            height=\"400\"\n",
       "            src=\"http://parsons.problemsolving.io/puzzle/7471c347a9294eb580802df26a2cd471\"\n",
       "            frameborder=\"0\"\n",
       "            allowfullscreen\n",
       "            \n",
       "        ></iframe>\n",
       "        "
      ],
      "text/plain": [
       "<IPython.lib.display.IFrame at 0x10f01ddc0>"
      ]
     },
     "execution_count": 2,
     "metadata": {},
     "output_type": "execute_result"
    }
   ],
   "source": [
    "IFrame('http://parsons.problemsolving.io/puzzle/7471c347a9294eb580802df26a2cd471', width=1000, height=400)\n"
   ]
  },
  {
   "cell_type": "code",
   "execution_count": null,
   "id": "d201ca05-9aaf-4577-ac22-9daeb707fca0",
   "metadata": {},
   "outputs": [],
   "source": [
    "## your code here"
   ]
  },
  {
   "cell_type": "markdown",
   "id": "8bb32d0a-9bfa-4d0f-bf0f-d55cb67c035a",
   "metadata": {},
   "source": [
    "### 2. Adding discrete levels"
   ]
  },
  {
   "cell_type": "markdown",
   "id": "da0754bf-22c4-40d8-8689-cdb68bdb38df",
   "metadata": {},
   "source": [
    "Smooth (continuous) color maps like the above \"look nice\", but the human eye is not trained to see such small differences in color. For example, it would be quite difficult to tell the temperature of the Peruvian coast (above 280K? or below?). Sometimes, **discrete levels** are the way to go:  "
   ]
  },
  {
   "cell_type": "code",
   "execution_count": null,
   "id": "02508262-4013-440e-8ec4-b9e1ea46ddb2",
   "metadata": {},
   "outputs": [],
   "source": [
    "ax = plt.axes(projection=ccrs.Robinson())\n",
    "t2_tavg.plot(ax=ax, transform=ccrs.PlateCarree(), levels=[240, 260, 280, 285, 290, 295, 300]) \n",
    "ax.coastlines(); ax.gridlines(); "
   ]
  },
  {
   "cell_type": "markdown",
   "id": "47d72d5d-1ce5-4a19-bc40-24db16388342",
   "metadata": {},
   "source": [
    "**Q: in which range can we place the temperature off the Peruvian coast? If your eyes still can´t make out the difference, how can we make sure?**"
   ]
  },
  {
   "cell_type": "markdown",
   "id": "705a4939-2b2b-49c9-a4ed-400a6f8f4db0",
   "metadata": {},
   "source": [
    "*your response here*"
   ]
  },
  {
   "cell_type": "markdown",
   "id": "6c7e4730-8a6c-4b79-83e6-9798945f7fba",
   "metadata": {},
   "source": [
    "**Exercise: Make a new plot, but this time set `levels=12`.  Explore how many levels are required to display the data most effectively.**"
   ]
  },
  {
   "cell_type": "code",
   "execution_count": null,
   "id": "c8197327-2564-4d20-baf7-849133a5846e",
   "metadata": {},
   "outputs": [],
   "source": [
    "# your code here"
   ]
  },
  {
   "cell_type": "markdown",
   "id": "410af8a1-94ef-4805-90c8-32aa2dfeb122",
   "metadata": {},
   "source": [
    "### Color tables"
   ]
  },
  {
   "cell_type": "markdown",
   "id": "0453c6d8-bc42-4c67-b878-4b3ec60d68d2",
   "metadata": {},
   "source": [
    "Let's make a new variable called ``t2c_tavg``, which is ``t2_tavg`` converted to degrees celsius:"
   ]
  },
  {
   "cell_type": "code",
   "execution_count": null,
   "id": "d467d558-7619-4d31-abf0-24d3fc87cfed",
   "metadata": {},
   "outputs": [],
   "source": [
    "t2c_tavg = t2_tavg - 273.15"
   ]
  },
  {
   "cell_type": "markdown",
   "id": "2867ff30-f408-4159-becf-b27c68c6f903",
   "metadata": {},
   "source": [
    "Copy your plotting code from above and use it to plot `t2c_tavg` instead of `t2_tavg`."
   ]
  },
  {
   "cell_type": "code",
   "execution_count": null,
   "id": "369ac0a9-23d8-4ade-9fe7-4d6996c53126",
   "metadata": {},
   "outputs": [],
   "source": [
    "## your code"
   ]
  },
  {
   "cell_type": "markdown",
   "id": "1782b565-6255-45ab-883f-1f818c5725af",
   "metadata": {},
   "source": [
    "What happened to the plot? Note the location of the 0 on the colorbar and the automated choice of a new colorscale. Note also that the data range is mostly dictated by very cold temperatures in Antarctica. The automated choices are a good first indication, but not always the most meaningful representation of the data. \n",
    "\n",
    "Let's see what happens with the below:"
   ]
  },
  {
   "cell_type": "code",
   "execution_count": null,
   "id": "78f6f225-2cf6-4420-a0d2-eca9a95ec6f8",
   "metadata": {},
   "outputs": [],
   "source": [
    "ax = plt.axes(projection=ccrs.Robinson())\n",
    "t2c_tavg.plot(ax=ax, transform=ccrs.PlateCarree(), cmap='inferno', center=False, \n",
    "              vmin=-40, vmax=20, levels=7, cbar_kwargs={'label': '°C'}) \n",
    "ax.set_title('Average annual 2m air temperature, ERA5 1979-2018')\n",
    "ax.coastlines(); ax.gridlines(); "
   ]
  },
  {
   "cell_type": "markdown",
   "id": "27d713e3-e4c0-49e7-9bee-991d4707b82d",
   "metadata": {},
   "source": [
    "**Q: try to understand the role of each keyword in the `plot` command by trying to use each of them separately. If you're still unsure, a look at xarray's [documentation](http://xarray.pydata.org/en/stable/generated/xarray.plot.pcolormesh.html) might be helpful.**\n",
    "\n",
    "Note: a list of matplotlib's color tables can be found [here](http://www.matplotlib.org/examples/color/colormaps_reference.html)."
   ]
  },
  {
   "cell_type": "code",
   "execution_count": null,
   "id": "691ced62-e9c3-4627-9a0e-ec977d268f1c",
   "metadata": {},
   "outputs": [],
   "source": [
    "# your workspace here"
   ]
  },
  {
   "cell_type": "markdown",
   "id": "f6909f26-fa63-49e6-be15-8ffa0349cf74",
   "metadata": {},
   "source": [
    "### Slightly faster map plots"
   ]
  },
  {
   "cell_type": "markdown",
   "id": "af89ae41-ae02-48b6-9d6c-4d193b3bf934",
   "metadata": {},
   "source": [
    "xarray's `.plot` method internally uses matplotlib's [pcolormesh](https://matplotlib.org/stable/api/_as_gen/matplotlib.pyplot.pcolormesh.html) which, for reasons too long to explain here, is the more accurate way to represent gridded data on a map. If you are willing to sacrifice some accuracy (not visible with the bare eye at the global scale), you can also use [imshow](https://matplotlib.org/stable/api/_as_gen/matplotlib.pyplot.imshow.html):"
   ]
  },
  {
   "cell_type": "code",
   "execution_count": null,
   "id": "7f5d63eb-8b36-482f-872d-d99d3f9c3805",
   "metadata": {},
   "outputs": [],
   "source": [
    "t2_tavg = ds.t2m.mean(dim='time')\n",
    "ax = plt.axes(projection=ccrs.Robinson())\n",
    "t2_tavg.plot.imshow(ax=ax, transform=ccrs.PlateCarree())\n",
    "ax.coastlines(); ax.gridlines();"
   ]
  },
  {
   "cell_type": "markdown",
   "id": "25e6438f-038d-493a-aaad-51fdeadacc59",
   "metadata": {},
   "source": [
    "This plot should render about 4 times faster than the default plot, which is useful for data exploration. It should not be used for final rendering or for regional plots, though."
   ]
  },
  {
   "cell_type": "markdown",
   "id": "fe1f2ce2-c097-4584-99a8-e6f21b0bf39f",
   "metadata": {},
   "source": [
    "## 3. Extracting time series"
   ]
  },
  {
   "cell_type": "markdown",
   "id": "942597b2-53b5-4303-a91d-36c3ffbb8132",
   "metadata": {},
   "source": [
    "**Exercise: print the dataset's time coordinate. Which period do the data cover?**"
   ]
  },
  {
   "cell_type": "code",
   "execution_count": null,
   "id": "9a3be72a-6248-4e8d-b03c-fa3abad2f24a",
   "metadata": {},
   "outputs": [],
   "source": [
    "# your answer here"
   ]
  },
  {
   "cell_type": "markdown",
   "id": "60e16a96-45ee-4eaa-87cb-fc9aaf005b90",
   "metadata": {},
   "source": [
    "Remember the selection methods we learned in Lab 2?  We can also use them for time series.  Let's define the variable `t2` for easy access and make a selection."
   ]
  },
  {
   "cell_type": "code",
   "execution_count": null,
   "id": "99322e93-1ecc-43cf-8487-adcae1e56988",
   "metadata": {},
   "outputs": [],
   "source": [
    "t2 = ds.t2m\n",
    "t2.sel(time='2008')"
   ]
  },
  {
   "cell_type": "markdown",
   "id": "4c04d13e-1dce-417c-8b09-804a9d69b0bf",
   "metadata": {},
   "source": [
    "**Q: what did we just do? Does that make sense to you?**"
   ]
  },
  {
   "cell_type": "markdown",
   "id": "09ce7c84-e21e-4a74-9c2d-d55c30e414f7",
   "metadata": {},
   "source": [
    "*your notes here*"
   ]
  },
  {
   "cell_type": "markdown",
   "id": "fc3e9ec1-8d01-4144-8dc4-26a5e650d322",
   "metadata": {},
   "source": [
    "The selection methods are very flexible.  **Make a prediction: what do you think each of the following commands will do?  Test them out and see.**\n",
    "- t2.sel(time='2008-02')\n",
    "- t2.sel(time='2008/02')\n",
    "- t2.sel(time=slice('2008', '2012'))"
   ]
  },
  {
   "cell_type": "code",
   "execution_count": null,
   "id": "91f59b8c-78c3-41bd-ab82-e7baa6f00309",
   "metadata": {
    "tags": []
   },
   "outputs": [],
   "source": [
    "# Your answer here"
   ]
  },
  {
   "cell_type": "markdown",
   "id": "bc4d7e5d-0162-4819-9b10-97ac97d51b2e",
   "metadata": {},
   "source": [
    "### Time series of globally averaged fields "
   ]
  },
  {
   "cell_type": "markdown",
   "id": "a5295ef5-ed18-4f38-b5bd-55aec0649b5c",
   "metadata": {},
   "source": [
    "Do you remember the average air temperature on Earth?  I know you do.  Let's see if we can extract a global average from this ERA5 data and compare it with our prior knowledge.\n",
    "\n",
    "Recall that to compute a global average on a sphere, we first need to weight the data by latitude (go back to [Lab 2](https://github.com/ehultee/climdyn-labs/blob/main/02-FM-NetCDF_Data.ipynb) if you need a refresher)."
   ]
  },
  {
   "cell_type": "code",
   "execution_count": null,
   "id": "acffd127-9aba-4dfb-8cf0-4d271818d1a4",
   "metadata": {},
   "outputs": [],
   "source": [
    "# Meridional weights\n",
    "weight = np.cos(np.deg2rad(ds.latitude))\n",
    "weight = weight / weight.sum()\n",
    "\n",
    "# Meridionally weighted zonal mean\n",
    "zonal_mean_t2_c = t2.mean(dim='longitude') - 273.15  # convert into Celsius\n",
    "weighted_zonal_mean_t2_c = zonal_mean_t2_c * weight\n",
    "weighted_ts_t2_c = weighted_zonal_mean_t2_c.sum(dim='latitude')"
   ]
  },
  {
   "cell_type": "markdown",
   "id": "4dc54d21-b477-4a39-ae0c-f91c9efc2aad",
   "metadata": {},
   "source": [
    "Notice the second to last line in the cell above.  Although `zonal_mean_t2_c` is of dimensions (`time`, `latitude`), we successfully multiplied it by an array of dimension `latitude` only. This is called \"broadcasting\" in the numpy jargon, and something you don't have to worry about for now: xarray does it for you! Indeed, xarray knows about the dimensions of your data (and their coordinates) and will always make arithmetic operations match these.\n",
    "\n",
    "Let's examine the average surface temperature over the time period of the data."
   ]
  },
  {
   "cell_type": "code",
   "execution_count": null,
   "id": "fcd43140-76dc-4b42-bf6d-4c87a6d14242",
   "metadata": {},
   "outputs": [],
   "source": [
    "weighted_ts_t2_c.plot();"
   ]
  },
  {
   "cell_type": "markdown",
   "id": "3cdbde47-6f81-4f0b-8c75-5fd4a240c315",
   "metadata": {},
   "source": [
    "Logically, the global average temperature on Earth would be: "
   ]
  },
  {
   "cell_type": "code",
   "execution_count": null,
   "id": "1962b5f5-90bb-41ee-bb68-9b97a9039165",
   "metadata": {},
   "outputs": [],
   "source": [
    "weighted_ts_t2_c.mean(dim='time')"
   ]
  },
  {
   "cell_type": "markdown",
   "id": "65cc6e37-5564-4186-84b4-a877a105bc16",
   "metadata": {},
   "source": [
    "**Q: Does the global average reflect what we discussed in previous weeks?**  \n",
    "Questions like these are called \"sanity checks\" and help us confirm our code is producing sensible answers."
   ]
  },
  {
   "cell_type": "code",
   "execution_count": null,
   "id": "4cbf785e-15e2-4785-8ac2-562f7b85b0d0",
   "metadata": {},
   "outputs": [],
   "source": [
    "# your answer here"
   ]
  },
  {
   "cell_type": "markdown",
   "id": "606aad85-5c20-439c-bbd4-2cd8c032cc1e",
   "metadata": {},
   "source": [
    "### Resampling time series data"
   ]
  },
  {
   "cell_type": "markdown",
   "id": "15b1d141-0a1d-4831-a481-83fd22921ab8",
   "metadata": {},
   "source": [
    "Resampling is the operation of changing the *sampling* of the data, i.e. the frequency at which it is sampled. One of the most meaningful ways to resample is to do an average, for example over each year:"
   ]
  },
  {
   "cell_type": "code",
   "execution_count": null,
   "id": "e5bf47ee-2cf0-4b59-b54b-a17f67685cdf",
   "metadata": {},
   "outputs": [],
   "source": [
    "tsa_t2_c = weighted_ts_t2_c.resample(time='AS').mean()"
   ]
  },
  {
   "cell_type": "markdown",
   "id": "6c032fcf-9da4-483c-ab0b-1367efa66a31",
   "metadata": {},
   "source": [
    "**Exercise: check that ``tsa_t2_c`` is what you think it is. What could the ``'AS'`` mean? Try ``'A'`` for a change, and note the difference.  What happens if you choose `MS`?**\n",
    "\n",
    "Note that averaging is [not the only way](http://xarray.pydata.org/en/stable/generated/xarray.Dataset.resample.html) available to resample data. **Try ``.std()`` and  ``.max()``, too.**"
   ]
  },
  {
   "cell_type": "code",
   "execution_count": null,
   "id": "7b20d0c2-e0a5-43bb-8cc2-193b08c186c3",
   "metadata": {},
   "outputs": [],
   "source": [
    "# your answer here"
   ]
  },
  {
   "cell_type": "markdown",
   "id": "59e08f7a-b4cf-4f2b-83a9-373269400e54",
   "metadata": {},
   "source": [
    "**Exercise: Make a yearly average plot from `tsa_t2_c`. Describe its features.  Does it surprise you, or is it the way you thought it would be? Compute the standard deviation of this time series (tip: .std())** "
   ]
  },
  {
   "cell_type": "code",
   "execution_count": null,
   "id": "c633f272-6ba4-4718-a0e7-991a4c231b3d",
   "metadata": {},
   "outputs": [],
   "source": [
    "# your answer here"
   ]
  },
  {
   "cell_type": "markdown",
   "id": "c39f9b5a-5dd5-4852-85c9-3884dcc6a8e8",
   "metadata": {},
   "source": [
    "### Computing a monthly climatography (or annual cycle)"
   ]
  },
  {
   "cell_type": "markdown",
   "id": "bd097a75-66a2-4859-acb6-3e07fd212bfa",
   "metadata": {},
   "source": [
    "Another way to look at time series data is to average them according to the time of year to study the annual cycle. This is done with the ``.groupby()`` method:"
   ]
  },
  {
   "cell_type": "code",
   "execution_count": null,
   "id": "13cd9ceb-ea5e-4df0-b643-5918bfb8d762",
   "metadata": {},
   "outputs": [],
   "source": [
    "tsm_t2_c = weighted_ts_t2_c.groupby('time.month').mean()"
   ]
  },
  {
   "cell_type": "markdown",
   "id": "7632e065-27af-48ab-9a66-4ae967e2eaaa",
   "metadata": {},
   "source": [
    "**Exercise: check that `tsm_t2_c` is what you think it is. What is the new dimension of the data? Plot it. Can you explain what you see?**"
   ]
  },
  {
   "cell_type": "code",
   "execution_count": null,
   "id": "2d5225a8-51c6-40ce-b367-8b30c9eb0526",
   "metadata": {},
   "outputs": [],
   "source": [
    "# your answer here"
   ]
  },
  {
   "cell_type": "markdown",
   "id": "f5d8c743-9695-48af-af4e-cc9fbb8b7ce2",
   "metadata": {},
   "source": [
    "### Averages and anomalies "
   ]
  },
  {
   "cell_type": "markdown",
   "id": "61502f18-2c30-4e14-b8b4-853d0012cec0",
   "metadata": {},
   "source": [
    "Remember when you found the temperature anomaly of Middlebury observations compared with a long-term average?  We can decompose any time series $A(t)$ into a reference value (often the mean) $\\overline{A}$ and an anomaly $A'(t)$:\n",
    "\n",
    "$$A(t) = \\overline{A} + A'(t)$$\n",
    "\n",
    "Often the variable t is omitted from the notation, i.e. one writes $A = \\overline{A} + A'$."
   ]
  },
  {
   "cell_type": "markdown",
   "id": "85153d57-c20e-426a-a305-7595d71afd79",
   "metadata": {},
   "source": [
    "**Exercise: compute the global temperature anomaly for the year 1997 with respect to the 1979-2018 average.**\n",
    "This is a multi-step task; you and your partner may want to write out a plan on paper first."
   ]
  },
  {
   "cell_type": "code",
   "execution_count": null,
   "id": "0ab3e327-3fd0-44fb-9c98-261c16800fb3",
   "metadata": {},
   "outputs": [],
   "source": [
    "# your answer here"
   ]
  },
  {
   "cell_type": "markdown",
   "id": "c7e10db5-2386-42dd-8b0f-08fec4c58aa6",
   "metadata": {},
   "source": [
    "## 4. Selecting specific areas of our data"
   ]
  },
  {
   "cell_type": "markdown",
   "id": "24591013-ab14-42ea-971d-6f6bdc1e1916",
   "metadata": {},
   "source": [
    "In the section above, we selected snapshots in time to generate time series.  We can also select spatial slices out of the data:"
   ]
  },
  {
   "cell_type": "code",
   "execution_count": null,
   "id": "3804032a-909d-4d49-ba17-5dd2c6a01ddf",
   "metadata": {},
   "outputs": [],
   "source": [
    "t2_reg = t2_tavg.sel(longitude=slice(-40, 40))"
   ]
  },
  {
   "cell_type": "code",
   "execution_count": null,
   "id": "6d814c40-f47f-4704-b5f4-8c860a8e7d96",
   "metadata": {},
   "outputs": [],
   "source": [
    "ax = plt.axes(projection=ccrs.PlateCarree()) # Note that I changed the projection\n",
    "t2_reg.plot(ax=ax, transform=ccrs.PlateCarree())\n",
    "ax.add_feature(cartopy.feature.BORDERS); # What does this command do? \n",
    "ax.coastlines();"
   ]
  },
  {
   "cell_type": "markdown",
   "id": "8e04569f-19ee-4224-b2f4-44b246a2f11f",
   "metadata": {},
   "source": [
    "**Exercise: create a new \"t2c_reg\" variable which is a subset of t2c_tavg between the longitudes (-20, 60) and the latitudes (40, -40). Plot the result.** (*note: yes, it is (40, -40) and not (-40, 40)*)"
   ]
  },
  {
   "cell_type": "code",
   "execution_count": null,
   "id": "20e421d7-be4a-46eb-915a-cd82adb635ab",
   "metadata": {},
   "outputs": [],
   "source": [
    "# your answer here"
   ]
  },
  {
   "cell_type": "markdown",
   "id": "920c514e-7487-4422-8519-aaec055517f2",
   "metadata": {},
   "source": [
    "### Selection based on a condition"
   ]
  },
  {
   "cell_type": "markdown",
   "id": "58104a88-9f82-45b0-b293-22463d74cc1a",
   "metadata": {},
   "source": [
    "What if we are interested into air temperature on land only, and want to remove the oceans from our analyses? For this we can use a technique called \"masking\".  We will download a file with the same spatial resolution as our data, but with the core purpose of identifying which areas are land and which are ocean. \n",
    "\n",
    "First, load in the \"Invariant\" data."
   ]
  },
  {
   "cell_type": "code",
   "execution_count": null,
   "id": "0dba2919-899e-4ea0-8383-b6fdcf70d3bb",
   "metadata": {},
   "outputs": [],
   "source": [
    "nc_inv = xr.open_dataset('../data/ERA5_LowRes_Invariant.nc')\n",
    "nc_inv"
   ]
  },
  {
   "cell_type": "markdown",
   "id": "6dcba3ed-33c4-4b2b-9ac2-5667907c3390",
   "metadata": {},
   "source": [
    "**Exercise: explore this new data file (variables, units). Plot the variables.**"
   ]
  },
  {
   "cell_type": "code",
   "execution_count": null,
   "id": "e97c0e97-5e2e-4132-94d5-49aa6bb653e3",
   "metadata": {},
   "outputs": [],
   "source": [
    "# your answer here"
   ]
  },
  {
   "cell_type": "markdown",
   "id": "6535696e-fd6d-4070-8c05-8462fbc93d41",
   "metadata": {},
   "source": [
    "OK, so in the `lsm` variable \"1\" is land, \"0\" is ocean. We are going to use this information to mask out the values from the ocean:"
   ]
  },
  {
   "cell_type": "code",
   "execution_count": null,
   "id": "8bb07164-168a-4eee-9a59-9732fe4d0838",
   "metadata": {},
   "outputs": [],
   "source": [
    "masked_t2_avg = t2c_tavg.where(nc_inv.lsm > 0.5)"
   ]
  },
  {
   "cell_type": "markdown",
   "id": "0ee78b6c-e03d-4ade-bd33-6b2a74233151",
   "metadata": {},
   "source": [
    "**Exercise: Plot this new variable on a map. Then compute its zonal average and plot it!**"
   ]
  },
  {
   "cell_type": "code",
   "execution_count": null,
   "id": "534b834e-a151-4eda-98b8-e116bad38438",
   "metadata": {},
   "outputs": [],
   "source": [
    "# your answer here"
   ]
  },
  {
   "cell_type": "code",
   "execution_count": null,
   "id": "a17ac2a3-bd44-4cb7-879e-432bfa16a472",
   "metadata": {},
   "outputs": [],
   "source": []
  },
  {
   "cell_type": "code",
   "execution_count": null,
   "id": "438e8e91-78fc-4860-8ae6-2deaab1e055c",
   "metadata": {},
   "outputs": [],
   "source": []
  },
  {
   "cell_type": "markdown",
   "id": "03fd9073-5a0c-4607-a0a7-ae44ee064689",
   "metadata": {},
   "source": [
    "# (decide on your own coding plan) Exploring a new dataset\n",
    "Choose a different one of the pre-processed ERA5 datasets linked on [this page](https://fabienmaussion.info/climate_system/download.html) and download it.  I suggest you choose one of the \"Monthly surface (3D)\" sets.  With your partner, make a plan to explore this dataset.  You might want to draft your plan on paper before starting to code.  At minimum, the code you write below should allow you to:\n",
    "- Load in the data\n",
    "- Identify what variable(s) are included in the dataset\n",
    "- Highlight an interesting pattern or feature in the data \n",
    "- Define (and ideally answer) a science question based on the data\n",
    "\n",
    "Remember to include text cells describing the approach and interpretation, and comments in the code to aid readability."
   ]
  },
  {
   "cell_type": "code",
   "execution_count": null,
   "id": "70c4604c-f858-4009-9be8-132c00ffca32",
   "metadata": {},
   "outputs": [],
   "source": []
  }
 ],
 "metadata": {
  "kernelspec": {
   "display_name": "Python 3 (ipykernel)",
   "language": "python",
   "name": "python3"
  },
  "language_info": {
   "codemirror_mode": {
    "name": "ipython",
    "version": 3
   },
   "file_extension": ".py",
   "mimetype": "text/x-python",
   "name": "python",
   "nbconvert_exporter": "python",
   "pygments_lexer": "ipython3",
   "version": "3.9.10"
  }
 },
 "nbformat": 4,
 "nbformat_minor": 5
}
