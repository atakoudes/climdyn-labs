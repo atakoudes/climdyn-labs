{
 "cells": [
  {
   "cell_type": "markdown",
   "metadata": {
    "slideshow": {
     "slide_type": "slide"
    },
    "tags": []
   },
   "source": [
    "# Ice-albedo feedback and Snowball Earth"
   ]
  },
  {
   "cell_type": "markdown",
   "metadata": {},
   "source": [
    "Welcome!  In this activity we will apply our simple energy balance model (\"EBM\") in Climlab to evaluate the climate impacts of changing ice cover.  \n",
    "\n",
    "We will study one of the most extreme cases of the ice-albedo feedback hinted at in the geologic record: Snowball Earth.\n",
    "\n",
    "![Snowball Earth artist's conception](./figs/snowball-large-Science.jpg)"
   ]
  },
  {
   "cell_type": "code",
   "execution_count": 1,
   "metadata": {},
   "outputs": [],
   "source": [
    "#  Ensure compatibility with Python 2 and 3\n",
    "from __future__ import print_function, division"
   ]
  },
  {
   "cell_type": "code",
   "execution_count": 2,
   "metadata": {
    "slideshow": {
     "slide_type": "slide"
    }
   },
   "outputs": [],
   "source": [
    "%matplotlib inline\n",
    "import numpy as np\n",
    "import matplotlib.pyplot as plt\n",
    "import matplotlib.patches as patches\n",
    "import climlab"
   ]
  },
  {
   "cell_type": "code",
   "execution_count": 3,
   "metadata": {},
   "outputs": [],
   "source": [
    "def state_plot(model, figsize=(12,5), show=True, ice_temp=True): ## define a standard plot for temperature and albedo\n",
    "    \"\"\"Plot the temperature and albedo at the current state of the model.\n",
    "    Shade the current ice line in grey.\"\"\"\n",
    "    templimits = -30,35\n",
    "    alimits = min(model.albedo)-0.05, max(model.albedo)+0.05\n",
    "    latlimits = -90,90\n",
    "    lat_ticks = np.arange(-90,90,30)\n",
    "    \n",
    "    Ts = np.array(model.Ts).flatten()\n",
    "    if ice_temp:\n",
    "    \tTf = float(model.param['Tf'])\n",
    "    else:\n",
    "    \tTf=0\n",
    "    \n",
    "    fig = plt.figure(figsize=figsize)\n",
    "    \n",
    "    ax1 = fig.add_subplot(1,2,1)\n",
    "    ax1.plot(model.lat, Ts)\n",
    "    ax1.set(xlim=latlimits, ylim=templimits,\n",
    "           ylabel='Temperature [deg C]', xlabel='Latitude', xticks=lat_ticks)\n",
    "    ax1.fill_between(model.lat, Ts, y2=Tf, where=Ts<Tf, color='LightGrey', alpha=0.5)\n",
    "    ax1.grid()\n",
    "    \n",
    "    ax2 = fig.add_subplot(1,2,2)\n",
    "    icerect1 = patches.Rectangle((latlimits[0], 0), width=model.icelat[0]-latlimits[0], height=1,\n",
    "                            color='LightGrey', alpha=0.5)\n",
    "    icerect2 = patches.Rectangle((model.icelat[1], 0), width=latlimits[1]-model.icelat[1], height=1,\n",
    "                            color='LightGrey', alpha=0.5)\n",
    "    ax2.add_patch(icerect1)\n",
    "    ax2.add_patch(icerect2)\n",
    "    ax2.plot(model.lat, model.albedo)\n",
    "    ax2.set(xlim=latlimits, ylim=alimits,\n",
    "           ylabel='Albedo', xlabel='Latitude', xticks=lat_ticks)\n",
    "    ax2.grid()"
   ]
  },
  {
   "cell_type": "markdown",
   "metadata": {
    "slideshow": {
     "slide_type": "slide"
    }
   },
   "source": [
    "## Contents\n",
    "\n",
    "1. [Setting up an energy balance model](#section1)\n",
    "2. [Ice advance and retreat in the EBM](#section2)\n",
    "3. [Snowball Earth: onset](#section3)\n",
    "4. [Escape from the Snowball](#section4)"
   ]
  },
  {
   "cell_type": "markdown",
   "metadata": {},
   "source": [
    "We will use an energy balance model that is very similar to what we set up in Lab 3, with one exception: we account for variations in energy with latitude, and energy transport across latitude bands."
   ]
  },
  {
   "cell_type": "markdown",
   "metadata": {
    "slideshow": {
     "slide_type": "slide"
    }
   },
   "source": [
    "____________\n",
    "<a id='section1'></a>\n",
    "\n",
    "## 1. Setting up an energy balance model\n",
    "____________\n"
   ]
  },
  {
   "cell_type": "markdown",
   "metadata": {},
   "source": [
    "![Simplified energy balance](./figs/radbalance-abbott.jpeg)\n",
    "\n",
    "As we have seen in lecture, Earth's energy budget is an important control on the climate we experience.  Radiation energy coming in from the sun can be reflected (in the atmosphere or from the surface) or absorbed.  The portion of incoming solar radiation $Q$ that is reflected, $Q_{reflected}$, is set by the **planetary albedo**, $\\alpha$.\n",
    "\n",
    "As we saw in lecture, "
   ]
  },
  {
   "cell_type": "code",
   "execution_count": 4,
   "metadata": {},
   "outputs": [
    {
     "name": "stdout",
     "output_type": "stream",
     "text": [
      "The planetary albedo is 0.30\n"
     ]
    }
   ],
   "source": [
    "Q = 341.3 # W/m2, the incoming solar radiation\n",
    "Q_reflected = 101.9 # W/m2, the reflected shortwave radiation\n",
    "alpha = Q_reflected/Q\n",
    "\n",
    "print('The planetary albedo is {:.2f}'.format(alpha)) # make a nicely formatted print statement to 2 sig figs"
   ]
  },
  {
   "cell_type": "markdown",
   "metadata": {},
   "source": [
    "The portion of incoming solar radiation that is not reflected is the **Absorbed Shortwave Radiation**, \n",
    "\\begin{equation}\n",
    "ASR=Q-Q_{reflected}=Q (1-\\alpha),\n",
    "\\end{equation}  \n",
    "controlled by the albedo $\\alpha$.\n",
    "\n",
    "The heat energy emitted to space at the top of the atmosphere is the **Outgoing Longwave Radiation**, $OLR$.  The total **energy budget** of the Earth system is the balance between energy going out ($OLR$) and coming in ($ASR$):\n",
    "\n",
    "\\begin{align}\n",
    "\\frac{dE}{dt} &= ASR - OLR \\\\\n",
    "    &= Q (1-\\alpha) - OLR,\n",
    "\\end{align}\n",
    "where we see $\\alpha$ is a key parameter.\n",
    "\n",
    "This is the basis of the simple **energy balance model** we first set up in Climlab.  Today, we will use it to explore the ice-albedo feedback."
   ]
  },
  {
   "cell_type": "markdown",
   "metadata": {
    "slideshow": {
     "slide_type": "slide"
    }
   },
   "source": [
    "### Our EBM: latitude-dependent, annual mean\n",
    "\n",
    "Here, we'll use an energy balance model that accounts for radiation fluxes that vary with latitude $\\phi$, but averages out seasonal changes in an annual mean.\n",
    "\n",
    "The equation the model will solve for us is below.  \n",
    "\\begin{align*}\n",
    "C(\\phi) \\frac{\\partial T_s}{\\partial t} = & ~(1-\\alpha) ~ Q - \\left( A + B~T_s \\right) +  \\\\\n",
    "& \\frac{D}{\\cos⁡\\phi } \\frac{\\partial }{\\partial \\phi} \\left(\\cos⁡\\phi  ~ \\frac{\\partial T_s}{\\partial \\phi} \\right)\n",
    "\\end{align*}\n",
    "\n",
    "**Questions:**\n",
    "\n",
    "*1.1. With your lab partner, diagram the physical meaning of each term in the equation.*\n",
    "\n",
    "*1.2. How do you expect the heat capacity, $C(\\phi)$, to vary with latitude?  Why?*"
   ]
  },
  {
   "cell_type": "markdown",
   "metadata": {},
   "source": [
    "1.1\n",
    "* $\\phi$ = latitude\n",
    "* $\\alpha$ = albedo\n",
    "* $\\frac{\\partial T_s}{\\partial t}$ = Change in surface temperature over time\n",
    "* $\\frac{\\partial T_s}{\\partial \\phi}$ = Change in latitude\n",
    "* Q = incoming solar radiation\n",
    "* A = 210 W m^-2 emission at 0ºC\n",
    "* B = 2 W m^-2 increase in emission per degree, related to net longwave climate feedback\n",
    "* D = 0.6 W m^-2 thermal diffusivity of the climate system\n",
    "1.2\n",
    "We expect $C($\\phi\\$) to be higher in areas with a lot of water such as the equator."
   ]
  },
  {
   "cell_type": "markdown",
   "metadata": {
    "slideshow": {
     "slide_type": "slide"
    }
   },
   "source": [
    "____________\n",
    "<a id='section2'></a>\n",
    "\n",
    "## 2. Interactive snow and ice line in the EBM\n",
    "____________\n"
   ]
  },
  {
   "cell_type": "markdown",
   "metadata": {
    "slideshow": {
     "slide_type": "slide"
    }
   },
   "source": [
    "### Temperature-dependent ice line\n",
    "\n",
    "Let the surface albedo be larger wherever the temperature is below some threshold $T_f$:\n",
    "\n",
    "$$ \\alpha\\left(\\phi, T(\\phi) \\right) = \\left\\{\\begin{array}{ccc} \n",
    "\\alpha_0 + \\alpha_2 P_2(\\sin\\phi) & ~ & T(\\phi) > T_f \\\\\n",
    "a_i & ~ & T(\\phi) \\le T_f \\\\\n",
    "\\end{array} \\right. $$\n"
   ]
  },
  {
   "cell_type": "code",
   "execution_count": 5,
   "metadata": {
    "scrolled": true
   },
   "outputs": [
    {
     "name": "stdout",
     "output_type": "stream",
     "text": [
      "climlab Process of type <class 'climlab.model.ebm.EBM_annual'>. \n",
      "State variables and domain shapes: \n",
      "  Ts: (180, 1) \n",
      "The subprocess tree: \n",
      "Annual EBM with ice line: <class 'climlab.model.ebm.EBM_annual'>\n",
      "   LW: <class 'climlab.radiation.aplusbt.AplusBT'>\n",
      "   insolation: <class 'climlab.radiation.insolation.AnnualMeanInsolation'>\n",
      "   albedo: <class 'climlab.surface.albedo.StepFunctionAlbedo'>\n",
      "      iceline: <class 'climlab.surface.albedo.Iceline'>\n",
      "      warm_albedo: <class 'climlab.surface.albedo.P2Albedo'>\n",
      "      cold_albedo: <class 'climlab.surface.albedo.ConstantAlbedo'>\n",
      "   SW: <class 'climlab.radiation.absorbed_shorwave.SimpleAbsorbedShortwave'>\n",
      "   diffusion: <class 'climlab.dynamics.meridional_heat_diffusion.MeridionalHeatDiffusion'>\n",
      "\n"
     ]
    }
   ],
   "source": [
    "#  for convenience, set up a dictionary with our reference parameters\n",
    "param = {'A':210, 'B':2, 'a0':0.3, 'a2':0.078, 'ai':0.62, 'Tf':-10.}\n",
    "model1 = climlab.EBM_annual(name='Annual EBM with ice line', \n",
    "                            num_lat=180, D=0.55, **param )\n",
    "print(model1)"
   ]
  },
  {
   "cell_type": "markdown",
   "metadata": {
    "slideshow": {
     "slide_type": "slide"
    }
   },
   "source": [
    "Because we provided a parameter `ai` for the icy albedo, our model now contains several sub-processes contained within the process called `albedo`. Together these implement the step-function formula above.\n",
    "\n",
    "The process called `iceline` simply looks for grid cells with temperature below $T_f$ and adjusts their albedo."
   ]
  },
  {
   "cell_type": "code",
   "execution_count": 6,
   "metadata": {},
   "outputs": [
    {
     "name": "stdout",
     "output_type": "stream",
     "text": [
      "{'timestep': 350632.51200000005, 'S0': 1365.2, 's2': -0.48, 'A': 210, 'B': 2, 'D': 0.55, 'Tf': -10.0, 'water_depth': 10.0, 'a0': 0.3, 'a2': 0.078, 'ai': 0.62}\n"
     ]
    }
   ],
   "source": [
    "print(model1.param)"
   ]
  },
  {
   "cell_type": "code",
   "execution_count": 7,
   "metadata": {
    "scrolled": true
   },
   "outputs": [
    {
     "name": "stdout",
     "output_type": "stream",
     "text": [
      "Integrating for 450 steps, 1826.2110000000002 days, or 5 years.\n",
      "Total elapsed time is 5.000000000000044 years.\n"
     ]
    }
   ],
   "source": [
    "model1.integrate_years(5)"
   ]
  },
  {
   "cell_type": "code",
   "execution_count": 8,
   "metadata": {},
   "outputs": [
    {
     "data": {
      "image/png": "[encoded data removed]",
      "text/plain": [
       "<Figure size 864x360 with 2 Axes>"
      ]
     },
     "metadata": {
      "needs_background": "light"
     },
     "output_type": "display_data"
    }
   ],
   "source": [
    "f = state_plot(model1)"
   ]
  },
  {
   "cell_type": "markdown",
   "metadata": {},
   "source": [
    "Grey shading on the above plots indicates where there is ice in the model.  We can find the same information by querying the model `icelat` attribute:"
   ]
  },
  {
   "cell_type": "code",
   "execution_count": 9,
   "metadata": {
    "slideshow": {
     "slide_type": "slide"
    }
   },
   "outputs": [
    {
     "data": {
      "text/plain": [
       "array([-70.,  70.])"
      ]
     },
     "execution_count": 9,
     "metadata": {},
     "output_type": "execute_result"
    }
   ],
   "source": [
    "model1.icelat"
   ]
  },
  {
   "cell_type": "markdown",
   "metadata": {},
   "source": [
    "### Sudden cooling\n",
    "\n",
    "What happens if we force the model to be colder? Let's store our current model state, then make a new model like it that will decrease the temperature by 20 $^{\\circ}$C everywhere. \n",
    "\n",
    "**Exercise: figure out how to make a model clone and decrease the temperature by 20 $^{\\circ}$C everywhere.**  Call it m2 so that the plotting cell will recognize it."
   ]
  },
  {
   "cell_type": "code",
   "execution_count": 10,
   "metadata": {},
   "outputs": [],
   "source": [
    "## Assign current model diagnostics to separate variables\n",
    "Tequil = np.array(model1.Ts)\n",
    "ALBequil = np.array(model1.albedo)\n",
    "OLRequil = np.array(model1.OLR)\n",
    "ASRequil = np.array(model1.ASR)"
   ]
  },
  {
   "cell_type": "code",
   "execution_count": 11,
   "metadata": {},
   "outputs": [],
   "source": [
    "m2 = ... #your work here"
   ]
  },
  {
   "cell_type": "code",
   "execution_count": 12,
   "metadata": {},
   "outputs": [
    {
     "ename": "AttributeError",
     "evalue": "'ellipsis' object has no attribute 'compute_diagnostics'",
     "output_type": "error",
     "traceback": [
      "\u001b[0;31m---------------------------------------------------------------------------\u001b[0m",
      "\u001b[0;31mAttributeError\u001b[0m                            Traceback (most recent call last)",
      "Input \u001b[0;32mIn [12]\u001b[0m, in \u001b[0;36m<module>\u001b[0;34m\u001b[0m\n\u001b[0;32m----> 1\u001b[0m \u001b[43mm2\u001b[49m\u001b[38;5;241;43m.\u001b[39;49m\u001b[43mcompute_diagnostics\u001b[49m()\n\u001b[1;32m      2\u001b[0m f3 \u001b[38;5;241m=\u001b[39m state_plot(m2)\n",
      "\u001b[0;31mAttributeError\u001b[0m: 'ellipsis' object has no attribute 'compute_diagnostics'"
     ]
    }
   ],
   "source": [
    "m2.compute_diagnostics()\n",
    "f3 = state_plot(m2)"
   ]
  },
  {
   "cell_type": "code",
   "execution_count": null,
   "metadata": {
    "scrolled": true
   },
   "outputs": [],
   "source": [
    "f2 = state_plot(model1)"
   ]
  },
  {
   "cell_type": "markdown",
   "metadata": {},
   "source": [
    "**Question:**\n",
    "\n",
    "*2.1. Compare and contrast the global patterns of temperature and albedo in this new, colder climate versus the previous simulation.*"
   ]
  },
  {
   "cell_type": "markdown",
   "metadata": {},
   "source": [
    "Let's look at the radiative effect - how does the absorbed shortwave radiation change with this colder climate?"
   ]
  },
  {
   "cell_type": "code",
   "execution_count": 13,
   "metadata": {
    "scrolled": true
   },
   "outputs": [
    {
     "ename": "AttributeError",
     "evalue": "'ellipsis' object has no attribute 'state'",
     "output_type": "error",
     "traceback": [
      "\u001b[0;31m---------------------------------------------------------------------------\u001b[0m",
      "\u001b[0;31mAttributeError\u001b[0m                            Traceback (most recent call last)",
      "Input \u001b[0;32mIn [13]\u001b[0m, in \u001b[0;36m<module>\u001b[0;34m\u001b[0m\n\u001b[1;32m      6\u001b[0m ax1 \u001b[38;5;241m=\u001b[39m fig\u001b[38;5;241m.\u001b[39madd_subplot(\u001b[38;5;241m1\u001b[39m,\u001b[38;5;241m2\u001b[39m,\u001b[38;5;241m1\u001b[39m)\n\u001b[1;32m      7\u001b[0m ax1\u001b[38;5;241m.\u001b[39mplot(lat, Tequil, label\u001b[38;5;241m=\u001b[39m\u001b[38;5;124m'\u001b[39m\u001b[38;5;124mequil\u001b[39m\u001b[38;5;124m'\u001b[39m) \n\u001b[0;32m----> 8\u001b[0m ax1\u001b[38;5;241m.\u001b[39mplot(lat, \u001b[43mm2\u001b[49m\u001b[38;5;241;43m.\u001b[39;49m\u001b[43mstate\u001b[49m[\u001b[38;5;124m'\u001b[39m\u001b[38;5;124mTs\u001b[39m\u001b[38;5;124m'\u001b[39m], label\u001b[38;5;241m=\u001b[39m\u001b[38;5;124m'\u001b[39m\u001b[38;5;124mpert\u001b[39m\u001b[38;5;124m'\u001b[39m )\n\u001b[1;32m      9\u001b[0m ax1\u001b[38;5;241m.\u001b[39mgrid()\n\u001b[1;32m     10\u001b[0m ax1\u001b[38;5;241m.\u001b[39mlegend()\n",
      "\u001b[0;31mAttributeError\u001b[0m: 'ellipsis' object has no attribute 'state'"
     ]
    },
    {
     "data": {
      "image/png": "[encoded data removed]",
      "text/plain": [
       "<Figure size 864x360 with 1 Axes>"
      ]
     },
     "metadata": {
      "needs_background": "light"
     },
     "output_type": "display_data"
    }
   ],
   "source": [
    "my_ticks = [-90,-60,-30,0,30,60,90]\n",
    "lat = model1.lat\n",
    "\n",
    "fig = plt.figure( figsize=(12,5) )\n",
    "\n",
    "ax1 = fig.add_subplot(1,2,1)\n",
    "ax1.plot(lat, Tequil, label='equil') \n",
    "ax1.plot(lat, m2.state['Ts'], label='pert' )\n",
    "ax1.grid()\n",
    "ax1.legend()\n",
    "ax1.set_xlim(-90,90)\n",
    "ax1.set_xticks(my_ticks)\n",
    "ax1.set_xlabel('Latitude')\n",
    "ax1.set_ylabel('Temperature (degC)')\n",
    "\n",
    "ax2 = fig.add_subplot(1,2,2)\n",
    "ax2.plot( lat, ASRequil, label='equil') \n",
    "ax2.plot( lat, m2.diagnostics['ASR'], label='pert' )\n",
    "ax2.grid()\n",
    "ax2.legend()\n",
    "ax2.set_xlim(-90,90)\n",
    "ax2.set_xticks(my_ticks)\n",
    "ax2.set_xlabel('Latitude')\n",
    "ax2.set_ylabel('ASR (W m$^{-2}$)')"
   ]
  },
  {
   "cell_type": "markdown",
   "metadata": {},
   "source": [
    "This tells us that making the climate colder, and allowing the ice edge to advance, tends to decrease the absorbed shortwave radiation (ASR).  That is, ice advance due to cooling is a ***positive feedback*** that will tend to lead to more cooling and more ice advance. "
   ]
  },
  {
   "cell_type": "markdown",
   "metadata": {},
   "source": [
    "**Question:**\n",
    "*2.2. Repeat the comparison with a warmer climate.  What is responsible for the differences?*"
   ]
  },
  {
   "cell_type": "markdown",
   "metadata": {
    "slideshow": {
     "slide_type": "slide"
    },
    "tags": []
   },
   "source": [
    "____________\n",
    "<a id='section3'></a>\n",
    "\n",
    "## 3. Snowball Earth onset\n",
    "____________\n"
   ]
  },
  {
   "cell_type": "markdown",
   "metadata": {},
   "source": [
    "In section 2 we forced the model to be cooler everywhere.  Now, we'll examine some real conditions of the past that could have forced a cooling.\n",
    "\n",
    "The radiation coming in from the sun has not always been what it was today.  Millions of years ago, the Sun was less bright, and as a result there was less solar energy entering the Earth system.  Luckily, it is easy to use our ClimLab energy balance model to investigate a past climate with a weaker sun.\n",
    "\n",
    "The model parameter `S0` is the solar constant, describing the flux of solar radiation."
   ]
  },
  {
   "cell_type": "code",
   "execution_count": null,
   "metadata": {},
   "outputs": [],
   "source": [
    "m3 = climlab.process_like(model1)"
   ]
  },
  {
   "cell_type": "code",
   "execution_count": null,
   "metadata": {},
   "outputs": [],
   "source": [
    "m3.subprocess.insolation.S0"
   ]
  },
  {
   "cell_type": "code",
   "execution_count": null,
   "metadata": {},
   "outputs": [],
   "source": [
    "m3.icelat"
   ]
  },
  {
   "cell_type": "markdown",
   "metadata": {},
   "source": [
    "Let's decrease the solar constant to examine past conditions."
   ]
  },
  {
   "cell_type": "code",
   "execution_count": null,
   "metadata": {},
   "outputs": [],
   "source": [
    "m3.subprocess.insolation.S0 = 1300.\n",
    "m3.integrate_years(100.)\n",
    "m3.icelat"
   ]
  },
  {
   "cell_type": "code",
   "execution_count": null,
   "metadata": {},
   "outputs": [],
   "source": [
    "f3 = state_plot(m3)"
   ]
  },
  {
   "cell_type": "markdown",
   "metadata": {},
   "source": [
    "*3.1. Find a value or values of S0 that results in 100% ice cover (entire plot shaded).*\n",
    "\n",
    "*3.2. Compare the value of S0 that you found with the inferred history of S0 (from the textbook or another source). Was it possible to reach Snowball Earth conditions under realistic historical values of S0?*"
   ]
  },
  {
   "cell_type": "markdown",
   "metadata": {},
   "source": [
    "Is it possible to produce Snowball Earth with orbital parameters only?  Climlab can help us assess.  Modify the eccentricity, longitude of perihelion, and obliquity below to see if you can produce a Snowball Earth with realistic values."
   ]
  },
  {
   "cell_type": "code",
   "execution_count": null,
   "metadata": {},
   "outputs": [],
   "source": [
    "## alternative: orbital forcing\n",
    "m3.subprocess.insolation.orb = {'ecc': 0.017236, 'long_peri': 281.37, 'obliquity': 22.9}\n",
    "m3.integrate_years(100.)\n",
    "m3.icelat"
   ]
  },
  {
   "cell_type": "markdown",
   "metadata": {},
   "source": [
    "*What do you conclude from this experiment?*"
   ]
  },
  {
   "cell_type": "markdown",
   "metadata": {},
   "source": [
    "____________\n",
    "<a id='section4'></a>\n",
    "\n",
    "## 4. Escape from the Snowball\n",
    "____________\n"
   ]
  },
  {
   "cell_type": "markdown",
   "metadata": {},
   "source": [
    "We have read that there were other important factors in Earth's past climate.  \n",
    "\n",
    "**Discussion:**\n",
    "With your neighbor and then in class, propose a geological mechanism that could have ended Snowball Earth."
   ]
  },
  {
   "cell_type": "markdown",
   "metadata": {
    "slideshow": {
     "slide_type": "slide"
    }
   },
   "source": [
    "____________\n",
    "\n",
    "## Credits\n",
    "\n",
    "This notebook was developed by [Lizz Ultee](http://ehultee.github.io), based in large part on the `ClimateModeling_courseware` resources of author of [Brian E. J. Rose](http://www.atmos.albany.edu/facstaff/brose/index.html).\n",
    "____________"
   ]
  },
  {
   "cell_type": "code",
   "execution_count": null,
   "metadata": {
    "slideshow": {
     "slide_type": "skip"
    }
   },
   "outputs": [],
   "source": []
  }
 ],
 "metadata": {
  "anaconda-cloud": {},
  "kernelspec": {
   "display_name": "Python 3 (ipykernel)",
   "language": "python",
   "name": "python3"
  },
  "language_info": {
   "codemirror_mode": {
    "name": "ipython",
    "version": 3
   },
   "file_extension": ".py",
   "mimetype": "text/x-python",
   "name": "python",
   "nbconvert_exporter": "python",
   "pygments_lexer": "ipython3",
   "version": "3.9.10"
  }
 },
 "nbformat": 4,
 "nbformat_minor": 4
}
